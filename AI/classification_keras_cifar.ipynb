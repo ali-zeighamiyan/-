{
  "cells": [
    {
      "cell_type": "code",
      "execution_count": 2,
      "metadata": {
        "id": "9Ms5zPQVC8q5"
      },
      "outputs": [],
      "source": [
        "from keras.datasets import cifar10"
      ]
    },
    {
      "cell_type": "code",
      "execution_count": 3,
      "metadata": {
        "id": "D9Zgb-OgFzuR"
      },
      "outputs": [],
      "source": [
        "import tensorflow as tf\n",
        "import numpy as np\n",
        "import matplotlib.pyplot as plt"
      ]
    },
    {
      "cell_type": "code",
      "execution_count": 161,
      "metadata": {
        "id": "c0gkNgiLDCwq"
      },
      "outputs": [],
      "source": [
        "(X_train, y_train), (X_test, y_test) = cifar10.load_data()"
      ]
    },
    {
      "cell_type": "code",
      "execution_count": 5,
      "metadata": {
        "colab": {
          "base_uri": "https://localhost:8080/"
        },
        "id": "v7n0eBMhm2OB",
        "outputId": "e6cf7d97-ccef-4dfe-ea83-55512242ecba"
      },
      "outputs": [
        {
          "name": "stderr",
          "output_type": "stream",
          "text": [
            "50000it [00:00, 375178.14it/s]\n"
          ]
        },
        {
          "data": {
            "text/plain": [
              "[0, 1, 3, 4, 6, 7, 8, 9, 27, 29]"
            ]
          },
          "execution_count": 5,
          "metadata": {},
          "output_type": "execute_result"
        }
      ],
      "source": [
        "import tqdm\n",
        "def unique(list1):\n",
        "  unique_list = []\n",
        "  counter = []\n",
        "  for i, x in tqdm.tqdm(enumerate(list1)):\n",
        "    if x not in unique_list:\n",
        "      unique_list.append(x)\n",
        "      counter.append(i)\n",
        "  counter.sort()\n",
        "  return (counter)\n",
        "unique(y_train)"
      ]
    },
    {
      "cell_type": "code",
      "execution_count": null,
      "metadata": {
        "id": "tPVrJXDUXzPw"
      },
      "outputs": [],
      "source": [
        "labels = {0:\"airplane\", 1:\"aoutomobile\", 2:\"bird\", 3:\"cat\", 4:\"deer\", 5:\"dog\", 6:\"frog\", 7:\"horse\", 8:\"ship\", 9:\"truck\"}\n",
        "fig = plt.figure(figsize=(10, 15))\n",
        "rows = 5\n",
        "columns = 2\n",
        "\n",
        "for i, j in enumerate(unique(y_train)):\n",
        "  fig.add_subplot(rows, columns, i+1)\n",
        "  plt.axis('off')\n",
        "  plt.title(labels[y_train[j][0]])\n",
        "  plt.imshow(X_train[j])"
      ]
    },
    {
      "cell_type": "code",
      "execution_count": 128,
      "metadata": {
        "id": "MQ7xRX2s2Q_T"
      },
      "outputs": [],
      "source": [
        "lr_schedule = tf.keras.optimizers.schedules.ExponentialDecay(\n",
        "    initial_learning_rate=0.1,\n",
        "    decay_steps=10000,\n",
        "    decay_rate=0.9)"
      ]
    },
    {
      "cell_type": "code",
      "execution_count": 151,
      "metadata": {
        "id": "_sbyKGcCtgkQ"
      },
      "outputs": [],
      "source": [
        "model = tf.keras.Sequential([\n",
        "    tf.keras.layers.Flatten(input_shape=(32, 32,3)),\n",
        "    tf.keras.layers.Dense(128, activation='relu'),\n",
        "    tf.keras.layers.Dense(64, activation='relu'),\n",
        "    tf.keras.layers.Dense(10)\n",
        "])\n"
      ]
    },
    {
      "cell_type": "code",
      "execution_count": 152,
      "metadata": {
        "id": "iXULPTz3tzH7"
      },
      "outputs": [],
      "source": [
        "model.compile(optimizer= tf.keras.optimizers.SGD(learning_rate= lr_schedule),\n",
        "              loss=\"mse\",\n",
        "              metrics=['accuracy'])\n"
      ]
    },
    {
      "cell_type": "code",
      "execution_count": null,
      "metadata": {
        "id": "mYMTp51ht2GH"
      },
      "outputs": [],
      "source": [
        "X_train = X_train /255\n",
        "X_test = X_test/255\n",
        "his = model.fit(X_train, y_train, epochs=50, batch_size = 64, validation_split=0.2)"
      ]
    },
    {
      "cell_type": "code",
      "execution_count": 158,
      "metadata": {
        "colab": {
          "base_uri": "https://localhost:8080/"
        },
        "id": "YX7-UM3u0Rab",
        "outputId": "3d0267a5-8c78-440a-eda7-221c861f5227"
      },
      "outputs": [
        {
          "data": {
            "text/plain": [
              "dict_keys(['loss', 'accuracy', 'val_loss', 'val_accuracy'])"
            ]
          },
          "execution_count": 158,
          "metadata": {},
          "output_type": "execute_result"
        }
      ],
      "source": [
        "his.history.keys()"
      ]
    },
    {
      "cell_type": "code",
      "execution_count": null,
      "metadata": {
        "colab": {
          "base_uri": "https://localhost:8080/",
          "height": 368
        },
        "id": "gzZUNBYClPNB",
        "outputId": "a63b5251-042d-4854-d516-7dfdbee2dd51"
      },
      "outputs": [],
      "source": [
        "def compute_test_accuracy(X_test, y_test, model):\n",
        "  predicted = model.predict(X_test)\n",
        "  correct = 0\n",
        "  count = 0\n",
        "  accuracy = []\n",
        "  for ip, predict in enumerate(predicted):\n",
        "    if predict.argmax() == y_test[ip][0]:\n",
        "      correct += 1\n",
        "    count += 1\n",
        "    \n",
        "    accuracy.append(100*correct/count)\n",
        "  return accuracy\n",
        "\n",
        "x = np.arange(0,10000)\n",
        "y = compute_test_accuracy(X_test, y_test, model)\n",
        "\n",
        "fig = plt.figure(figsize=(12, 5))\n",
        "fig.add_subplot(1, 5, 1)\n",
        "plt.plot(np.arange(0, 50), np.array((his.history['val_accuracy']))*100)\n",
        "plt.title('validation accuracy')\n",
        "plt.xlabel('epoch')\n",
        "\n",
        "fig.add_subplot(1, 5, 2)\n",
        "plt.plot(his.history['val_loss'])\n",
        "plt.title('validation loss')\n",
        "plt.xlabel('epoch')\n",
        "\n",
        "fig.add_subplot(1, 5, 3)\n",
        "plt.plot(x, y)\n",
        "plt.title(\"Test Accuracy\")\n",
        "plt.xlabel('data_count')\n",
        "\n",
        "fig.add_subplot(1, 5, 4)\n",
        "plt.plot(his.history['loss'])\n",
        "plt.title(\"train loss\")\n",
        "plt.xlabel('epoch')\n",
        "\n",
        "fig.add_subplot(1, 5, 5)\n",
        "plt.plot(his.history['accuracy'])\n",
        "plt.title(\"train accuracy\")\n",
        "plt.xlabel('epoch')\n",
        "\n",
        "\n",
        "plt.show()\n",
        "  "
      ]
    }
  ],
  "metadata": {
    "accelerator": "GPU",
    "colab": {
      "provenance": []
    },
    "gpuClass": "standard",
    "kernelspec": {
      "display_name": "Python 3",
      "language": "python",
      "name": "python3"
    },
    "language_info": {
      "name": "python",
      "version": "3.10.5 (tags/v3.10.5:f377153, Jun  6 2022, 16:14:13) [MSC v.1929 64 bit (AMD64)]"
    },
    "vscode": {
      "interpreter": {
        "hash": "ea3bc4447bd6cba55cdf9eaaee12c649a8a0a3c578f041a6381858bf23126293"
      }
    }
  },
  "nbformat": 4,
  "nbformat_minor": 0
}
