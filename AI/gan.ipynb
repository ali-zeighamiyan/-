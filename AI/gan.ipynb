{
  "nbformat": 4,
  "nbformat_minor": 0,
  "metadata": {
    "colab": {
      "provenance": []
    },
    "kernelspec": {
      "name": "python3",
      "display_name": "Python 3"
    },
    "language_info": {
      "name": "python"
    },
    "gpuClass": "standard"
  },
  "cells": [
    {
      "cell_type": "markdown",
      "source": [
        "# Import"
      ],
      "metadata": {
        "id": "gKYz4PdzbJww"
      }
    },
    {
      "cell_type": "code",
      "execution_count": 1,
      "metadata": {
        "id": "Rb3NCqP6cvta"
      },
      "outputs": [],
      "source": [
        "import tensorflow as tf\n",
        "from tensorflow.keras.layers import Input, Dense, LeakyReLU, Dropout, BatchNormalization\n",
        "from tensorflow.keras.models import Model\n",
        "from tensorflow.keras.optimizers import SGD, Adam\n",
        "import numpy as np\n",
        "import pandas as pd\n",
        "import matplotlib.pyplot as plt \n",
        "import sys, os"
      ]
    },
    {
      "cell_type": "markdown",
      "source": [
        "# Download Human Faces Dataset"
      ],
      "metadata": {
        "id": "bArZFe4hbSUp"
      }
    },
    {
      "cell_type": "code",
      "source": [
        "! pip install kaggle\n",
        "! pip install -q kaggle"
      ],
      "metadata": {
        "id": "dCHHEn4AqJIk"
      },
      "execution_count": null,
      "outputs": []
    },
    {
      "cell_type": "code",
      "source": [
        "from google.colab import files\n",
        "files.upload()"
      ],
      "metadata": {
        "id": "ERg5mWdcSuUE"
      },
      "execution_count": null,
      "outputs": []
    },
    {
      "cell_type": "code",
      "source": [
        "!mkdir .kaggle"
      ],
      "metadata": {
        "id": "8kXxPNQ7qZtQ"
      },
      "execution_count": 8,
      "outputs": []
    },
    {
      "cell_type": "code",
      "source": [
        "!cp kaggle.json .kaggle"
      ],
      "metadata": {
        "id": "qT4J_-SjqrwP"
      },
      "execution_count": 9,
      "outputs": []
    },
    {
      "cell_type": "code",
      "source": [
        "!chmod 600 /root/.kaggle/kaggle.json"
      ],
      "metadata": {
        "id": "2dAOUeN7rHZ9"
      },
      "execution_count": 17,
      "outputs": []
    },
    {
      "cell_type": "code",
      "source": [
        "ls"
      ],
      "metadata": {
        "colab": {
          "base_uri": "https://localhost:8080/"
        },
        "id": "KbWEgWhv9Q-K",
        "outputId": "8daf120d-d5be-43f3-b87c-310a225ce246"
      },
      "execution_count": 24,
      "outputs": [
        {
          "output_type": "stream",
          "name": "stdout",
          "text": [
            "human-faces.zip  kaggle.json  \u001b[0m\u001b[01;34msample_data\u001b[0m/\n"
          ]
        }
      ]
    },
    {
      "cell_type": "code",
      "source": [
        "!mv human-faces.zip /content/"
      ],
      "metadata": {
        "id": "8dq1HwnITZNH"
      },
      "execution_count": 20,
      "outputs": []
    },
    {
      "cell_type": "code",
      "source": [
        "!mv .kaggle /root/"
      ],
      "metadata": {
        "id": "mVltW4TsUHPz"
      },
      "execution_count": null,
      "outputs": []
    },
    {
      "cell_type": "code",
      "source": [
        "!kaggle datasets list"
      ],
      "metadata": {
        "id": "eycxZ2cTrPSd"
      },
      "execution_count": null,
      "outputs": []
    },
    {
      "cell_type": "code",
      "source": [
        "!kaggle datasets download -d ashwingupta3012/human-faces"
      ],
      "metadata": {
        "colab": {
          "base_uri": "https://localhost:8080/"
        },
        "id": "WfjDG6Q4lQqK",
        "outputId": "f9a8a413-3a8c-4c49-95c3-98acac693bbe"
      },
      "execution_count": 19,
      "outputs": [
        {
          "output_type": "stream",
          "name": "stdout",
          "text": [
            "Downloading human-faces.zip to /\n",
            "100% 1.81G/1.82G [00:11<00:00, 179MB/s]\n",
            "100% 1.82G/1.82G [00:11<00:00, 176MB/s]\n"
          ]
        }
      ]
    },
    {
      "cell_type": "code",
      "source": [
        "!unzip human-faces.zip"
      ],
      "metadata": {
        "id": "KBhxjm9lrf0c"
      },
      "execution_count": null,
      "outputs": []
    },
    {
      "cell_type": "code",
      "source": [
        "cd content"
      ],
      "metadata": {
        "colab": {
          "base_uri": "https://localhost:8080/"
        },
        "id": "55f18Op-sHck",
        "outputId": "fa93d56a-5f36-4b6e-bb20-a93d192b8b3b"
      },
      "execution_count": 23,
      "outputs": [
        {
          "output_type": "stream",
          "name": "stdout",
          "text": [
            "/content\n"
          ]
        }
      ]
    },
    {
      "cell_type": "markdown",
      "source": [
        "# Conver Images To List Of Matrices"
      ],
      "metadata": {
        "id": "HuHVRVppbkap"
      }
    },
    {
      "cell_type": "code",
      "source": [
        "import os, cv2\n",
        "import matplotlib.pyplot as plt\n",
        "from google.colab.patches import cv2_imshow\n",
        "import tqdm"
      ],
      "metadata": {
        "id": "A92ug3cMsXhl"
      },
      "execution_count": 2,
      "outputs": []
    },
    {
      "cell_type": "code",
      "source": [
        "image_names = os.listdir(\"Humans\")\n",
        "X_train = []\n",
        "for image_name in tqdm.tqdm(image_names):\n",
        "  image = cv2.imread(f\"Humans/{image_name}\", 0)\n",
        "  image = cv2.resize(image, dsize=(100, 100))\n",
        "  X_train.append(image)\n"
      ],
      "metadata": {
        "colab": {
          "base_uri": "https://localhost:8080/"
        },
        "id": "B43FMTkctHX2",
        "outputId": "853c61fd-cf48-4d70-aafc-b23b67d3e44f"
      },
      "execution_count": 3,
      "outputs": [
        {
          "output_type": "stream",
          "name": "stderr",
          "text": [
            "100%|██████████| 7219/7219 [02:12<00:00, 54.30it/s] \n"
          ]
        }
      ]
    },
    {
      "cell_type": "code",
      "source": [],
      "metadata": {
        "id": "2UIDQQiH36WU"
      },
      "execution_count": 81,
      "outputs": []
    },
    {
      "cell_type": "code",
      "source": [
        "image.shape"
      ],
      "metadata": {
        "colab": {
          "base_uri": "https://localhost:8080/"
        },
        "id": "418ORXyf4nWM",
        "outputId": "46403835-24bb-4c4e-992b-3875292655bb"
      },
      "execution_count": 58,
      "outputs": [
        {
          "output_type": "execute_result",
          "data": {
            "text/plain": [
              "(100, 100)"
            ]
          },
          "metadata": {},
          "execution_count": 58
        }
      ]
    },
    {
      "cell_type": "code",
      "source": [
        "plt.imshow(image)"
      ],
      "metadata": {
        "colab": {
          "base_uri": "https://localhost:8080/",
          "height": 451
        },
        "id": "kEc17S834iba",
        "outputId": "2f5359c3-9bbb-4a5d-888f-3d255f65ad31"
      },
      "execution_count": 59,
      "outputs": [
        {
          "output_type": "execute_result",
          "data": {
            "text/plain": [
              "<matplotlib.image.AxesImage at 0x7f0ccce81550>"
            ]
          },
          "metadata": {},
          "execution_count": 59
        },
        {
          "output_type": "display_data",
          "data": {
            "text/plain": [
              "<Figure size 640x480 with 1 Axes>"
            ],
            "image/png": "[encoded data removed]"
          },
          "metadata": {}
        }
      ]
    },
    {
      "cell_type": "markdown",
      "source": [
        "# Download Numbers Dataset\n",
        "we can train the model on this or on previous dataset depend on what kind of picture we need to generate\n"
      ],
      "metadata": {
        "id": "ScgYYa4-b68i"
      }
    },
    {
      "cell_type": "code",
      "source": [
        "mnist = tf.keras.datasets.mnist\n",
        "(x_train, y_train) , (x_test, y_test) = mnist.load_data()\n",
        "\n",
        "x_train, x_test = x_train/ 255 *2 - 1,  x_test/ 255 *2 - 1\n"
      ],
      "metadata": {
        "colab": {
          "base_uri": "https://localhost:8080/"
        },
        "id": "_eEym7ZJeChT",
        "outputId": "ad551c94-40d0-44f6-b8f5-2514cd9d56c1"
      },
      "execution_count": 2,
      "outputs": [
        {
          "output_type": "stream",
          "name": "stdout",
          "text": [
            "Downloading data from https://storage.googleapis.com/tensorflow/tf-keras-datasets/mnist.npz\n",
            "11490434/11490434 [==============================] - 0s 0us/step\n"
          ]
        }
      ]
    },
    {
      "cell_type": "code",
      "source": [
        "y_train[10]"
      ],
      "metadata": {
        "colab": {
          "base_uri": "https://localhost:8080/"
        },
        "id": "TWbBUfe6erty",
        "outputId": "7912899a-c8b0-42a7-c602-d1c4a7504dea"
      },
      "execution_count": 3,
      "outputs": [
        {
          "output_type": "execute_result",
          "data": {
            "text/plain": [
              "3"
            ]
          },
          "metadata": {},
          "execution_count": 3
        }
      ]
    },
    {
      "cell_type": "code",
      "source": [
        "plt.imshow(x_train[10])"
      ],
      "metadata": {
        "colab": {
          "base_uri": "https://localhost:8080/",
          "height": 448
        },
        "id": "odehlhsUefqw",
        "outputId": "d1c66101-bdfd-4cc1-d1df-7e870b33b97e"
      },
      "execution_count": 4,
      "outputs": [
        {
          "output_type": "execute_result",
          "data": {
            "text/plain": [
              "<matplotlib.image.AxesImage at 0x7fab71ee6190>"
            ]
          },
          "metadata": {},
          "execution_count": 4
        },
        {
          "output_type": "display_data",
          "data": {
            "text/plain": [
              "<Figure size 640x480 with 1 Axes>"
            ],
            "image/png": "[encoded data removed]"
          },
          "metadata": {}
        }
      ]
    },
    {
      "cell_type": "markdown",
      "source": [
        "# Convert List to numpy array, normalize it around zero"
      ],
      "metadata": {
        "id": "zDww9N9pcnfS"
      }
    },
    {
      "cell_type": "code",
      "source": [
        "x_train = np.array(X_train)\n",
        "x_train = x_train/ 255 *2 - 1"
      ],
      "metadata": {
        "id": "XZZUMHJ7e17G"
      },
      "execution_count": 4,
      "outputs": []
    },
    {
      "cell_type": "code",
      "source": [
        "x_train.shape"
      ],
      "metadata": {
        "id": "4zvoWKAw7pGL"
      },
      "execution_count": null,
      "outputs": []
    },
    {
      "cell_type": "markdown",
      "source": [
        "# Get shape of pictures then flatt them"
      ],
      "metadata": {
        "id": "fa5OPB1vc4Ne"
      }
    },
    {
      "cell_type": "code",
      "source": [
        "N, H, W = x_train.shape\n",
        "D = H * W\n",
        "x_train = x_train.reshape(-1,D)\n",
        "# x_test = x_test.reshape(-1, D)"
      ],
      "metadata": {
        "id": "3r56D9Q3fKrt"
      },
      "execution_count": 5,
      "outputs": []
    },
    {
      "cell_type": "code",
      "source": [
        "x_train.shape"
      ],
      "metadata": {
        "colab": {
          "base_uri": "https://localhost:8080/"
        },
        "id": "KrEa-aExvl8P",
        "outputId": "3faa56a3-a270-4464-c795-d55c2eb01cb2"
      },
      "execution_count": 28,
      "outputs": [
        {
          "output_type": "execute_result",
          "data": {
            "text/plain": [
              "(60000, 784)"
            ]
          },
          "metadata": {},
          "execution_count": 28
        }
      ]
    },
    {
      "cell_type": "code",
      "source": [
        "latent_dim = 1000"
      ],
      "metadata": {
        "id": "wVqaW7yrfoPf"
      },
      "execution_count": 6,
      "outputs": []
    },
    {
      "cell_type": "markdown",
      "source": [
        "# Build generator and discriminator layers"
      ],
      "metadata": {
        "id": "kMN-HiNcdIhM"
      }
    },
    {
      "cell_type": "code",
      "source": [
        "def build_generator(latent_dim):\n",
        "  i = Input(shape=(latent_dim,))\n",
        "  x = Dense(256, activation = LeakyReLU(alpha=0.2))(i)\n",
        "  x = BatchNormalization(momentum = 0.8)(x)\n",
        "  x = Dense(512, activation = LeakyReLU(alpha=0.2))(x)\n",
        "  x = BatchNormalization(momentum = 0.8)(x)\n",
        "  x = Dense(1024, activation = LeakyReLU(alpha=0.2))(x)\n",
        "  x = BatchNormalization(momentum = 0.8)(x)\n",
        "  x = Dense(D, activation = \"tanh\")(x)\n",
        "\n",
        "  model = Model(i, x)\n",
        "  return model\n"
      ],
      "metadata": {
        "id": "-tsVlDxcfr4g"
      },
      "execution_count": 7,
      "outputs": []
    },
    {
      "cell_type": "code",
      "source": [
        "def build_discriminator(img_size) :\n",
        "  i = Input(shape=(img_size))\n",
        "  x = Dense(512, activation = LeakyReLU(alpha=0.2))(i)\n",
        "  x = Dense(256, activation = LeakyReLU(alpha=0.2))(x)\n",
        "  x = Dense(1, activation = \"sigmoid\")(x)\n",
        "  model = Model(i, x)\n",
        "  return model\n"
      ],
      "metadata": {
        "id": "IS9knC-Hhljn"
      },
      "execution_count": 8,
      "outputs": []
    },
    {
      "cell_type": "markdown",
      "source": [
        "# Build Combine_model that contains both discriminator and generator"
      ],
      "metadata": {
        "id": "-QBX9sUjdfR6"
      }
    },
    {
      "cell_type": "code",
      "source": [
        "discriminator = build_discriminator(D)\n",
        "discriminator.compile(loss=\"binary_crossentropy\", optimizer=Adam(0.0002,0.5), metrics=[\"accuracy\"])\n",
        "\n",
        "generator = build_generator(latent_dim)\n",
        "z = Input(shape=(latent_dim, ))\n",
        "img = generator(z)\n",
        "\n",
        "discriminator.trainable = False\n",
        "\n",
        "fake_pred = discriminator(img)\n",
        "combined_model = Model(z, fake_pred)\n",
        "\n",
        "combined_model.compile(loss=\"binary_crossentropy\", optimizer=Adam(0.0002, 0.5))\n",
        "\n"
      ],
      "metadata": {
        "id": "FgZIQxq6jAiN"
      },
      "execution_count": 20,
      "outputs": []
    },
    {
      "cell_type": "markdown",
      "source": [
        "# Specify some parameters of training and labels(zeros, ones)"
      ],
      "metadata": {
        "id": "C1EsMYk0dyOi"
      }
    },
    {
      "cell_type": "code",
      "source": [
        "batch_size = 128\n",
        "epochs = 20000\n",
        "sample_period = 200\n",
        "\n",
        "ones = np.ones(batch_size)\n",
        "zeros = np.zeros(batch_size)\n",
        "\n",
        "d_losses = []\n",
        "g_losses = []\n",
        "\n",
        "if not os.path.exists(\"gan_images\"):\n",
        "  os.makedirs(\"gan_images\")\n"
      ],
      "metadata": {
        "id": "Q3dKMRUymliF"
      },
      "execution_count": 17,
      "outputs": []
    },
    {
      "cell_type": "markdown",
      "source": [],
      "metadata": {
        "id": "gxVovEfgeA14"
      }
    },
    {
      "cell_type": "markdown",
      "source": [
        "# This function Convert flatten matrix(for example 1 * 784) to normal type (for example 28 * 28) then save it"
      ],
      "metadata": {
        "id": "97OXBAOneEoA"
      }
    },
    {
      "cell_type": "code",
      "source": [
        "def sample_images(epoch):\n",
        "  rows, cols = 1, 1\n",
        "  noise = np.random.randn(rows * cols, latent_dim)\n",
        "  imgs = generator.predict(noise)\n",
        "\n",
        "  imgs = 0.5 * imgs + 0.5\n",
        "  fig, axs = plt.subplots(rows, cols)\n",
        "  idx = 0\n",
        "  axs.imshow(imgs[idx].reshape(H, W), cmap = \"gray\")\n",
        "  # for i in range(rows):\n",
        "  #   for j in range(cols):\n",
        "  #     axs[i,j].imshow(imgs[idx].reshape(H, W), cmap = \"gray\")\n",
        "  #     axs[i,j].axis(\"off\")\n",
        "  #     idx += 1\n",
        "  \n",
        "  fig.savefig(\"gan_images/%d.png\" % epoch)\n",
        "  plt.close()\n"
      ],
      "metadata": {
        "id": "qB8vR45FoT96"
      },
      "execution_count": 18,
      "outputs": []
    },
    {
      "cell_type": "markdown",
      "source": [
        "# Train models through for loop\n",
        "first train discriminator on real(from dataset) and fake(produced by generator) images then train combined_model.\n",
        "we pass ones labels to combined_model to trick discriminator and update generator's weights.\n",
        "\n",
        "each 200 epoch we call sample_imges function to save and see the progress"
      ],
      "metadata": {
        "id": "gSR7_pwye250"
      }
    },
    {
      "cell_type": "code",
      "source": [
        "for epoch in range(epochs):\n",
        "  ##### train discriminator\n",
        "  idx = np.random.randint(0, x_train.shape[0], batch_size)\n",
        "  real_imgs = x_train[idx]\n",
        "\n",
        "  noise = np.random.randn(batch_size, latent_dim)\n",
        "  fake_imgs = generator.predict(noise)\n",
        "\n",
        "  d_loss_real, d_acc_real = discriminator.train_on_batch(real_imgs, ones)\n",
        "  d_loss_fake, d_acc_fake = discriminator.train_on_batch(fake_imgs, zeros)\n",
        "\n",
        "  d_loss = 0.5 * (d_loss_real+d_loss_fake)\n",
        "  d_acc = 0.5 * (d_acc_real+d_acc_fake)\n",
        "\n",
        "\n",
        "  ##### TRAIN GENERATOR\n",
        "  noise = np.random.randn(batch_size, latent_dim)\n",
        "  g_loss = combined_model.train_on_batch(noise, ones)\n",
        "\n",
        "  d_losses.append(d_loss)\n",
        "  g_losses.append(g_loss)\n",
        "\n",
        "  if epoch % 100 ==0 :\n",
        "    print(f\"epoch: {epoch+1}/{epochs}, d_loss: {d_loss:.2f}, \\ d_acc/: {d_acc:.2f}, g_loss: {g_loss:.2f} \" )\n",
        "\n",
        "  if epoch % sample_period == 0:\n",
        "    sample_images(epoch)\n",
        "  \n",
        "\n",
        "\n",
        "\n"
      ],
      "metadata": {
        "id": "Y6hdhfVSo4-D"
      },
      "execution_count": null,
      "outputs": []
    },
    {
      "cell_type": "markdown",
      "source": [
        "# I tried on mnist dataset and it's pictures was good.\n",
        "# I tried on human faces dataset and for 6000 epoch it's results wasn't good enough and then colab crashed. i keep going ... "
      ],
      "metadata": {
        "id": "vKIGwrIRh6AJ"
      }
    }
  ]
}