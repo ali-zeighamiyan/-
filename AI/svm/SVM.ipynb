{
  "nbformat": 4,
  "nbformat_minor": 0,
  "metadata": {
    "colab": {
      "provenance": []
    },
    "kernelspec": {
      "name": "python3",
      "display_name": "Python 3"
    },
    "language_info": {
      "name": "python"
    }
  },
  "cells": [
    {
      "cell_type": "code",
      "execution_count": 1,
      "metadata": {
        "id": "no4Dd68CAVxr"
      },
      "outputs": [],
      "source": [
        "from sklearn import svm\n",
        "import pandas as pd\n",
        "from sklearn.model_selection import train_test_split\n",
        "from sklearn import preprocessing\n",
        "from sklearn.metrics import accuracy_score\n",
        "import numpy as np \n",
        "import matplotlib.pyplot as plt"
      ]
    },
    {
      "cell_type": "code",
      "source": [
        "df  = pd.read_csv(\"Frogs_MFCCs.csv\")"
      ],
      "metadata": {
        "id": "hHSnd6ExBI7u"
      },
      "execution_count": 2,
      "outputs": []
    },
    {
      "cell_type": "code",
      "source": [
        "df = df.fillna(df.mean()).drop('RecordID',axis=1)\n",
        "y = df['Family']"
      ],
      "metadata": {
        "id": "NjDN9BwyCw8o",
        "colab": {
          "base_uri": "https://localhost:8080/"
        },
        "outputId": "71f43946-7958-498a-ab7b-16553bfc94fd"
      },
      "execution_count": 3,
      "outputs": [
        {
          "output_type": "stream",
          "name": "stderr",
          "text": [
            "<ipython-input-3-36ff5e77b6da>:1: FutureWarning: Dropping of nuisance columns in DataFrame reductions (with 'numeric_only=None') is deprecated; in a future version this will raise TypeError.  Select only valid columns before calling the reduction.\n",
            "  df = df.fillna(df.mean()).drop('RecordID',axis=1)\n"
          ]
        }
      ]
    },
    {
      "cell_type": "code",
      "source": [
        "def define_categories(data):\n",
        "    categorical_id = []\n",
        "    for i, type in enumerate(data.dtypes):\n",
        "        if type == 'object':\n",
        "            categorical_id.append(i)\n",
        "            \n",
        "    return categorical_id"
      ],
      "metadata": {
        "id": "Y9-g42YNNXLD"
      },
      "execution_count": 4,
      "outputs": []
    },
    {
      "cell_type": "code",
      "source": [
        "def one_hot_encoding(data):\n",
        "    les = {}\n",
        "    df = data.copy()\n",
        "    categorical_id = define_categories(df)\n",
        "    for j, column in enumerate(df.columns):\n",
        "        le = preprocessing.LabelEncoder()\n",
        "        if j in categorical_id:\n",
        "            le.fit(list(df[column]))\n",
        "            df[column] = le.transform(list(df[column]))\n",
        "            les.update({column : le})\n",
        "    return les, df"
      ],
      "metadata": {
        "id": "hZ2idQfTNakS"
      },
      "execution_count": 5,
      "outputs": []
    },
    {
      "cell_type": "code",
      "source": [
        "def normalize(data):\n",
        "    max_of_each_feature = {}\n",
        "    df_max_scaled = data.copy()\n",
        "    # apply normalization techniques\n",
        "    for column in df_max_scaled.columns:\n",
        "        max_of_each_feature.update({column :df_max_scaled[column].abs().max()})\n",
        "        df_max_scaled[column] = df_max_scaled[column]  / df_max_scaled[column].abs().max()\n",
        "    return df_max_scaled, max_of_each_feature"
      ],
      "metadata": {
        "id": "j0zNS48LQM3c"
      },
      "execution_count": 6,
      "outputs": []
    },
    {
      "cell_type": "code",
      "source": [
        "less_obj, df_one_hot_encoded = one_hot_encoding(df)"
      ],
      "metadata": {
        "id": "Mi9PvPJ1PL-r"
      },
      "execution_count": 7,
      "outputs": []
    },
    {
      "cell_type": "code",
      "source": [
        "df_scaled, _ = normalize(df_one_hot_encoded)"
      ],
      "metadata": {
        "id": "wVUcTUlkQm0u"
      },
      "execution_count": 8,
      "outputs": []
    },
    {
      "cell_type": "code",
      "source": [
        "df_scaled.head()"
      ],
      "metadata": {
        "colab": {
          "base_uri": "https://localhost:8080/",
          "height": 317
        },
        "id": "cTQ7Sw46QyVZ",
        "outputId": "5b7a2a6e-7da5-45f4-afa1-d537c09b638c"
      },
      "execution_count": 229,
      "outputs": [
        {
          "output_type": "execute_result",
          "data": {
            "text/plain": [
              "   MFCCs_ 1  MFCCs_ 2  MFCCs_ 3  MFCCs_ 4  MFCCs_ 5  MFCCs_ 6  MFCCs_ 7  \\\n",
              "0       1.0  0.152936 -0.105586  0.200722  0.421672  0.270435  0.100945   \n",
              "1       1.0  0.171534 -0.098975  0.268425  0.450214  0.278305  0.060835   \n",
              "2       1.0  0.152317 -0.082973  0.287128  0.366920  0.196908  0.008714   \n",
              "3       1.0  0.224392  0.118985  0.329432  0.494636  0.374393  0.015501   \n",
              "4       1.0  0.087817 -0.068345  0.306967  0.439913  0.258384  0.006884   \n",
              "\n",
              "   MFCCs_ 8  MFCCs_ 9  MFCCs_10  ...  MFCCs_16  MFCCs_17  MFCCs_18  MFCCs_19  \\\n",
              "0 -0.260297 -0.231870  0.130926  ... -0.035808 -0.159069 -0.102226 -0.014055   \n",
              "1 -0.385902 -0.281414  0.179449  ...  0.017925 -0.133558 -0.074421 -0.051860   \n",
              "2 -0.420176 -0.296942  0.244195  ...  0.124550 -0.074420 -0.031068 -0.098012   \n",
              "3 -0.337113 -0.133030  0.283929  ... -0.074883 -0.199674 -0.233152 -0.191699   \n",
              "4 -0.460400 -0.234000  0.279790  ...  0.093689 -0.071767 -0.069896 -0.130079   \n",
              "\n",
              "   MFCCs_20  MFCCs_21  MFCCs_22  Family  Genus  Species  \n",
              "0  0.123301  0.275480  0.032481     1.0    0.0      0.0  \n",
              "1  0.043050  0.190949  0.067226     1.0    0.0      0.0  \n",
              "2 -0.053616  0.230050  0.178531     1.0    0.0      0.0  \n",
              "3 -0.117065 -0.043387  0.055423     1.0    0.0      0.0  \n",
              "4 -0.067002  0.252105  0.183348     1.0    0.0      0.0  \n",
              "\n",
              "[5 rows x 25 columns]"
            ],
            "text/html": [
              "\n",
              "  <div id=\"df-dd53a2d4-134c-48c0-aad0-e003178c9e85\">\n",
              "    <div class=\"colab-df-container\">\n",
              "      <div>\n",
              "<style scoped>\n",
              "    .dataframe tbody tr th:only-of-type {\n",
              "        vertical-align: middle;\n",
              "    }\n",
              "\n",
              "    .dataframe tbody tr th {\n",
              "        vertical-align: top;\n",
              "    }\n",
              "\n",
              "    .dataframe thead th {\n",
              "        text-align: right;\n",
              "    }\n",
              "</style>\n",
              "<table border=\"1\" class=\"dataframe\">\n",
              "  <thead>\n",
              "    <tr style=\"text-align: right;\">\n",
              "      <th></th>\n",
              "      <th>MFCCs_ 1</th>\n",
              "      <th>MFCCs_ 2</th>\n",
              "      <th>MFCCs_ 3</th>\n",
              "      <th>MFCCs_ 4</th>\n",
              "      <th>MFCCs_ 5</th>\n",
              "      <th>MFCCs_ 6</th>\n",
              "      <th>MFCCs_ 7</th>\n",
              "      <th>MFCCs_ 8</th>\n",
              "      <th>MFCCs_ 9</th>\n",
              "      <th>MFCCs_10</th>\n",
              "      <th>...</th>\n",
              "      <th>MFCCs_16</th>\n",
              "      <th>MFCCs_17</th>\n",
              "      <th>MFCCs_18</th>\n",
              "      <th>MFCCs_19</th>\n",
              "      <th>MFCCs_20</th>\n",
              "      <th>MFCCs_21</th>\n",
              "      <th>MFCCs_22</th>\n",
              "      <th>Family</th>\n",
              "      <th>Genus</th>\n",
              "      <th>Species</th>\n",
              "    </tr>\n",
              "  </thead>\n",
              "  <tbody>\n",
              "    <tr>\n",
              "      <th>0</th>\n",
              "      <td>1.0</td>\n",
              "      <td>0.152936</td>\n",
              "      <td>-0.105586</td>\n",
              "      <td>0.200722</td>\n",
              "      <td>0.421672</td>\n",
              "      <td>0.270435</td>\n",
              "      <td>0.100945</td>\n",
              "      <td>-0.260297</td>\n",
              "      <td>-0.231870</td>\n",
              "      <td>0.130926</td>\n",
              "      <td>...</td>\n",
              "      <td>-0.035808</td>\n",
              "      <td>-0.159069</td>\n",
              "      <td>-0.102226</td>\n",
              "      <td>-0.014055</td>\n",
              "      <td>0.123301</td>\n",
              "      <td>0.275480</td>\n",
              "      <td>0.032481</td>\n",
              "      <td>1.0</td>\n",
              "      <td>0.0</td>\n",
              "      <td>0.0</td>\n",
              "    </tr>\n",
              "    <tr>\n",
              "      <th>1</th>\n",
              "      <td>1.0</td>\n",
              "      <td>0.171534</td>\n",
              "      <td>-0.098975</td>\n",
              "      <td>0.268425</td>\n",
              "      <td>0.450214</td>\n",
              "      <td>0.278305</td>\n",
              "      <td>0.060835</td>\n",
              "      <td>-0.385902</td>\n",
              "      <td>-0.281414</td>\n",
              "      <td>0.179449</td>\n",
              "      <td>...</td>\n",
              "      <td>0.017925</td>\n",
              "      <td>-0.133558</td>\n",
              "      <td>-0.074421</td>\n",
              "      <td>-0.051860</td>\n",
              "      <td>0.043050</td>\n",
              "      <td>0.190949</td>\n",
              "      <td>0.067226</td>\n",
              "      <td>1.0</td>\n",
              "      <td>0.0</td>\n",
              "      <td>0.0</td>\n",
              "    </tr>\n",
              "    <tr>\n",
              "      <th>2</th>\n",
              "      <td>1.0</td>\n",
              "      <td>0.152317</td>\n",
              "      <td>-0.082973</td>\n",
              "      <td>0.287128</td>\n",
              "      <td>0.366920</td>\n",
              "      <td>0.196908</td>\n",
              "      <td>0.008714</td>\n",
              "      <td>-0.420176</td>\n",
              "      <td>-0.296942</td>\n",
              "      <td>0.244195</td>\n",
              "      <td>...</td>\n",
              "      <td>0.124550</td>\n",
              "      <td>-0.074420</td>\n",
              "      <td>-0.031068</td>\n",
              "      <td>-0.098012</td>\n",
              "      <td>-0.053616</td>\n",
              "      <td>0.230050</td>\n",
              "      <td>0.178531</td>\n",
              "      <td>1.0</td>\n",
              "      <td>0.0</td>\n",
              "      <td>0.0</td>\n",
              "    </tr>\n",
              "    <tr>\n",
              "      <th>3</th>\n",
              "      <td>1.0</td>\n",
              "      <td>0.224392</td>\n",
              "      <td>0.118985</td>\n",
              "      <td>0.329432</td>\n",
              "      <td>0.494636</td>\n",
              "      <td>0.374393</td>\n",
              "      <td>0.015501</td>\n",
              "      <td>-0.337113</td>\n",
              "      <td>-0.133030</td>\n",
              "      <td>0.283929</td>\n",
              "      <td>...</td>\n",
              "      <td>-0.074883</td>\n",
              "      <td>-0.199674</td>\n",
              "      <td>-0.233152</td>\n",
              "      <td>-0.191699</td>\n",
              "      <td>-0.117065</td>\n",
              "      <td>-0.043387</td>\n",
              "      <td>0.055423</td>\n",
              "      <td>1.0</td>\n",
              "      <td>0.0</td>\n",
              "      <td>0.0</td>\n",
              "    </tr>\n",
              "    <tr>\n",
              "      <th>4</th>\n",
              "      <td>1.0</td>\n",
              "      <td>0.087817</td>\n",
              "      <td>-0.068345</td>\n",
              "      <td>0.306967</td>\n",
              "      <td>0.439913</td>\n",
              "      <td>0.258384</td>\n",
              "      <td>0.006884</td>\n",
              "      <td>-0.460400</td>\n",
              "      <td>-0.234000</td>\n",
              "      <td>0.279790</td>\n",
              "      <td>...</td>\n",
              "      <td>0.093689</td>\n",
              "      <td>-0.071767</td>\n",
              "      <td>-0.069896</td>\n",
              "      <td>-0.130079</td>\n",
              "      <td>-0.067002</td>\n",
              "      <td>0.252105</td>\n",
              "      <td>0.183348</td>\n",
              "      <td>1.0</td>\n",
              "      <td>0.0</td>\n",
              "      <td>0.0</td>\n",
              "    </tr>\n",
              "  </tbody>\n",
              "</table>\n",
              "<p>5 rows × 25 columns</p>\n",
              "</div>\n",
              "      <button class=\"colab-df-convert\" onclick=\"convertToInteractive('df-dd53a2d4-134c-48c0-aad0-e003178c9e85')\"\n",
              "              title=\"Convert this dataframe to an interactive table.\"\n",
              "              style=\"display:none;\">\n",
              "        \n",
              "  <svg xmlns=\"http://www.w3.org/2000/svg\" height=\"24px\"viewBox=\"0 0 24 24\"\n",
              "       width=\"24px\">\n",
              "    <path d=\"M0 0h24v24H0V0z\" fill=\"none\"/>\n",
              "    <path d=\"M18.56 5.44l.94 2.06.94-2.06 2.06-.94-2.06-.94-.94-2.06-.94 2.06-2.06.94zm-11 1L8.5 8.5l.94-2.06 2.06-.94-2.06-.94L8.5 2.5l-.94 2.06-2.06.94zm10 10l.94 2.06.94-2.06 2.06-.94-2.06-.94-.94-2.06-.94 2.06-2.06.94z\"/><path d=\"M17.41 7.96l-1.37-1.37c-.4-.4-.92-.59-1.43-.59-.52 0-1.04.2-1.43.59L10.3 9.45l-7.72 7.72c-.78.78-.78 2.05 0 2.83L4 21.41c.39.39.9.59 1.41.59.51 0 1.02-.2 1.41-.59l7.78-7.78 2.81-2.81c.8-.78.8-2.07 0-2.86zM5.41 20L4 18.59l7.72-7.72 1.47 1.35L5.41 20z\"/>\n",
              "  </svg>\n",
              "      </button>\n",
              "      \n",
              "  <style>\n",
              "    .colab-df-container {\n",
              "      display:flex;\n",
              "      flex-wrap:wrap;\n",
              "      gap: 12px;\n",
              "    }\n",
              "\n",
              "    .colab-df-convert {\n",
              "      background-color: #E8F0FE;\n",
              "      border: none;\n",
              "      border-radius: 50%;\n",
              "      cursor: pointer;\n",
              "      display: none;\n",
              "      fill: #1967D2;\n",
              "      height: 32px;\n",
              "      padding: 0 0 0 0;\n",
              "      width: 32px;\n",
              "    }\n",
              "\n",
              "    .colab-df-convert:hover {\n",
              "      background-color: #E2EBFA;\n",
              "      box-shadow: 0px 1px 2px rgba(60, 64, 67, 0.3), 0px 1px 3px 1px rgba(60, 64, 67, 0.15);\n",
              "      fill: #174EA6;\n",
              "    }\n",
              "\n",
              "    [theme=dark] .colab-df-convert {\n",
              "      background-color: #3B4455;\n",
              "      fill: #D2E3FC;\n",
              "    }\n",
              "\n",
              "    [theme=dark] .colab-df-convert:hover {\n",
              "      background-color: #434B5C;\n",
              "      box-shadow: 0px 1px 3px 1px rgba(0, 0, 0, 0.15);\n",
              "      filter: drop-shadow(0px 1px 2px rgba(0, 0, 0, 0.3));\n",
              "      fill: #FFFFFF;\n",
              "    }\n",
              "  </style>\n",
              "\n",
              "      <script>\n",
              "        const buttonEl =\n",
              "          document.querySelector('#df-dd53a2d4-134c-48c0-aad0-e003178c9e85 button.colab-df-convert');\n",
              "        buttonEl.style.display =\n",
              "          google.colab.kernel.accessAllowed ? 'block' : 'none';\n",
              "\n",
              "        async function convertToInteractive(key) {\n",
              "          const element = document.querySelector('#df-dd53a2d4-134c-48c0-aad0-e003178c9e85');\n",
              "          const dataTable =\n",
              "            await google.colab.kernel.invokeFunction('convertToInteractive',\n",
              "                                                     [key], {});\n",
              "          if (!dataTable) return;\n",
              "\n",
              "          const docLinkHtml = 'Like what you see? Visit the ' +\n",
              "            '<a target=\"_blank\" href=https://colab.research.google.com/notebooks/data_table.ipynb>data table notebook</a>'\n",
              "            + ' to learn more about interactive tables.';\n",
              "          element.innerHTML = '';\n",
              "          dataTable['output_type'] = 'display_data';\n",
              "          await google.colab.output.renderOutput(dataTable, element);\n",
              "          const docLink = document.createElement('div');\n",
              "          docLink.innerHTML = docLinkHtml;\n",
              "          element.appendChild(docLink);\n",
              "        }\n",
              "      </script>\n",
              "    </div>\n",
              "  </div>\n",
              "  "
            ]
          },
          "metadata": {},
          "execution_count": 229
        }
      ]
    },
    {
      "cell_type": "code",
      "source": [
        "\n",
        "X = df_scaled.drop('Family',axis=1)"
      ],
      "metadata": {
        "id": "XkZ0mzDTC8pS"
      },
      "execution_count": 9,
      "outputs": []
    },
    {
      "cell_type": "code",
      "source": [
        "X_train, X_test, y_train, y_test = train_test_split(X, y, test_size=0.3, random_state=42)"
      ],
      "metadata": {
        "id": "QzM-_RUBHr0O"
      },
      "execution_count": 10,
      "outputs": []
    },
    {
      "cell_type": "code",
      "source": [
        "X_train.head()"
      ],
      "metadata": {
        "id": "y9dIczcwMiYY"
      },
      "execution_count": null,
      "outputs": []
    },
    {
      "cell_type": "code",
      "source": [
        "clf = svm.SVC(kernel='linear')\n",
        "clf.fit(X_train, y_train)"
      ],
      "metadata": {
        "colab": {
          "base_uri": "https://localhost:8080/"
        },
        "id": "xS1pVTv2LGcj",
        "outputId": "4d5fbd26-21ab-4832-cd94-c7bfc0fea59f"
      },
      "execution_count": 11,
      "outputs": [
        {
          "output_type": "execute_result",
          "data": {
            "text/plain": [
              "SVC(kernel='linear')"
            ]
          },
          "metadata": {},
          "execution_count": 11
        }
      ]
    },
    {
      "cell_type": "code",
      "source": [
        "y_train_pred = clf.predict(X_train.values)\n",
        "accuracy_score(y_train, y_train_pred)\n"
      ],
      "metadata": {
        "colab": {
          "base_uri": "https://localhost:8080/"
        },
        "id": "Pi5eFjfuSQjT",
        "outputId": "de39a849-5317-4d2e-ae78-c3b884c3de20"
      },
      "execution_count": 12,
      "outputs": [
        {
          "output_type": "stream",
          "name": "stderr",
          "text": [
            "/usr/local/lib/python3.8/dist-packages/sklearn/base.py:450: UserWarning: X does not have valid feature names, but SVC was fitted with feature names\n",
            "  warnings.warn(\n"
          ]
        },
        {
          "output_type": "execute_result",
          "data": {
            "text/plain": [
              "0.9763701350277998"
            ]
          },
          "metadata": {},
          "execution_count": 12
        }
      ]
    },
    {
      "cell_type": "code",
      "source": [
        "y_test_pred = clf.predict(X_test.values)\n",
        "accuracy_score(y_test, y_test_pred)\n"
      ],
      "metadata": {
        "colab": {
          "base_uri": "https://localhost:8080/"
        },
        "id": "jh9qTUlcT5_8",
        "outputId": "a506f558-b4c0-4ab9-a7fa-8bf5c4c92e3f"
      },
      "execution_count": 13,
      "outputs": [
        {
          "output_type": "stream",
          "name": "stderr",
          "text": [
            "/usr/local/lib/python3.8/dist-packages/sklearn/base.py:450: UserWarning: X does not have valid feature names, but SVC was fitted with feature names\n",
            "  warnings.warn(\n"
          ]
        },
        {
          "output_type": "execute_result",
          "data": {
            "text/plain": [
              "0.968040759610931"
            ]
          },
          "metadata": {},
          "execution_count": 13
        }
      ]
    },
    {
      "cell_type": "code",
      "source": [
        "clf.n_support_"
      ],
      "metadata": {
        "colab": {
          "base_uri": "https://localhost:8080/"
        },
        "id": "S3-YbVkVUNrI",
        "outputId": "7cb3f295-fd8e-4dd5-dee2-32a98856d35d"
      },
      "execution_count": 14,
      "outputs": [
        {
          "output_type": "execute_result",
          "data": {
            "text/plain": [
              "array([ 41,  97, 233, 190], dtype=int32)"
            ]
          },
          "metadata": {},
          "execution_count": 14
        }
      ]
    },
    {
      "cell_type": "markdown",
      "source": [
        "# **B**"
      ],
      "metadata": {
        "id": "0tmQqXEKf9pA"
      }
    },
    {
      "cell_type": "code",
      "source": [
        "X_train2, X_valid, y_train2, y_valid = train_test_split(X_train, y_train, test_size=0.2, random_state=42)"
      ],
      "metadata": {
        "id": "EWsiRYDyg02l"
      },
      "execution_count": 15,
      "outputs": []
    },
    {
      "cell_type": "code",
      "source": [
        "c_arr = np.arange(0.1,50, 0.5)\n",
        "acc = []\n",
        "for c in c_arr:\n",
        "  clf = svm.SVC(C=c)\n",
        "  clf.fit(X_train2, y_train2)\n",
        "  y_valid_pred = clf.predict(X_valid.values)\n",
        "  acc.append(accuracy_score(y_valid, y_valid_pred))"
      ],
      "metadata": {
        "id": "MKxzVbjvxDqQ"
      },
      "execution_count": null,
      "outputs": []
    },
    {
      "cell_type": "code",
      "source": [
        "plt.plot(c_arr, acc)\n",
        "plt.xlabel('C_Value')\n",
        "plt.ylabel('Accuracy')\n",
        "plt.xticks(np.arange(0,50,5))\n",
        "plt.yticks(np.arange(0.97,1,0.005))"
      ],
      "metadata": {
        "colab": {
          "base_uri": "https://localhost:8080/",
          "height": 423
        },
        "id": "SPrPQ0UyxFmF",
        "outputId": "4c6c86d5-901b-4613-af69-7e60f662addc"
      },
      "execution_count": 47,
      "outputs": [
        {
          "output_type": "execute_result",
          "data": {
            "text/plain": [
              "([<matplotlib.axis.YTick at 0x7fe66494d9d0>,\n",
              "  <matplotlib.axis.YTick at 0x7fe66b921fd0>,\n",
              "  <matplotlib.axis.YTick at 0x7fe663932e80>,\n",
              "  <matplotlib.axis.YTick at 0x7fe6637de040>,\n",
              "  <matplotlib.axis.YTick at 0x7fe6637de550>,\n",
              "  <matplotlib.axis.YTick at 0x7fe6637dea60>,\n",
              "  <matplotlib.axis.YTick at 0x7fe6637def70>],\n",
              " <a list of 7 Text major ticklabel objects>)"
            ]
          },
          "metadata": {},
          "execution_count": 47
        },
        {
          "output_type": "display_data",
          "data": {
            "text/plain": [
              "<Figure size 432x288 with 1 Axes>"
            ],
            "image/png": "[encoded data removed]"
          },
          "metadata": {
            "needs_background": "light"
          }
        }
      ]
    },
    {
      "cell_type": "code",
      "source": [
        "clf = svm.SVC(C=3)\n",
        "clf.fit(X_train2, y_train2)"
      ],
      "metadata": {
        "colab": {
          "base_uri": "https://localhost:8080/"
        },
        "id": "84KWIzmYf8ko",
        "outputId": "76ae40f0-821a-40da-a114-076a78e9cf4b"
      },
      "execution_count": 18,
      "outputs": [
        {
          "output_type": "execute_result",
          "data": {
            "text/plain": [
              "SVC(C=3)"
            ]
          },
          "metadata": {},
          "execution_count": 18
        }
      ]
    },
    {
      "cell_type": "code",
      "source": [
        "y_valid_pred = clf.predict(X_valid.values)\n",
        "accuracy_score(y_valid, y_valid_pred)"
      ],
      "metadata": {
        "colab": {
          "base_uri": "https://localhost:8080/"
        },
        "id": "OkuT4UdsgaQg",
        "outputId": "da5f7541-cfcc-4db9-c26e-54b3a20f56b0"
      },
      "execution_count": 19,
      "outputs": [
        {
          "output_type": "stream",
          "name": "stderr",
          "text": [
            "/usr/local/lib/python3.8/dist-packages/sklearn/base.py:450: UserWarning: X does not have valid feature names, but SVC was fitted with feature names\n",
            "  warnings.warn(\n"
          ]
        },
        {
          "output_type": "execute_result",
          "data": {
            "text/plain": [
              "0.9940476190476191"
            ]
          },
          "metadata": {},
          "execution_count": 19
        }
      ]
    },
    {
      "cell_type": "code",
      "source": [
        "y_test_pred = clf.predict(X_test.values)\n",
        "accuracy_score(y_test, y_test_pred)"
      ],
      "metadata": {
        "colab": {
          "base_uri": "https://localhost:8080/"
        },
        "id": "XRfbHS-LkZvR",
        "outputId": "740c54bf-4d60-4e9c-afa0-931407b61c78"
      },
      "execution_count": 22,
      "outputs": [
        {
          "output_type": "stream",
          "name": "stderr",
          "text": [
            "/usr/local/lib/python3.8/dist-packages/sklearn/base.py:450: UserWarning: X does not have valid feature names, but SVC was fitted with feature names\n",
            "  warnings.warn(\n"
          ]
        },
        {
          "output_type": "execute_result",
          "data": {
            "text/plain": [
              "0.9949050486336267"
            ]
          },
          "metadata": {},
          "execution_count": 22
        }
      ]
    },
    {
      "cell_type": "code",
      "source": [
        "y_train_pred = clf.predict(X_train2.values)\n",
        "accuracy_score(y_train2, y_train_pred)"
      ],
      "metadata": {
        "colab": {
          "base_uri": "https://localhost:8080/"
        },
        "id": "bAuDmqbblZ47",
        "outputId": "444b4e05-b0ff-4a85-97fa-74ab9b4a82ea"
      },
      "execution_count": 21,
      "outputs": [
        {
          "output_type": "stream",
          "name": "stderr",
          "text": [
            "/usr/local/lib/python3.8/dist-packages/sklearn/base.py:450: UserWarning: X does not have valid feature names, but SVC was fitted with feature names\n",
            "  warnings.warn(\n"
          ]
        },
        {
          "output_type": "execute_result",
          "data": {
            "text/plain": [
              "0.9990069513406157"
            ]
          },
          "metadata": {},
          "execution_count": 21
        }
      ]
    },
    {
      "cell_type": "code",
      "source": [
        "clf.n_support_"
      ],
      "metadata": {
        "colab": {
          "base_uri": "https://localhost:8080/"
        },
        "id": "jxoHdJq8l3rb",
        "outputId": "6cc95fdf-b63c-42bf-d03f-ff01803bd017"
      },
      "execution_count": 23,
      "outputs": [
        {
          "output_type": "execute_result",
          "data": {
            "text/plain": [
              "array([ 20,  52, 129, 106], dtype=int32)"
            ]
          },
          "metadata": {},
          "execution_count": 23
        }
      ]
    },
    {
      "cell_type": "markdown",
      "source": [
        "## **C**"
      ],
      "metadata": {
        "id": "RdtIU790zWOh"
      }
    },
    {
      "cell_type": "code",
      "source": [
        "clf = svm.SVC(kernel='rbf')\n",
        "clf.fit(X_train2, y_train2)"
      ],
      "metadata": {
        "colab": {
          "base_uri": "https://localhost:8080/"
        },
        "id": "KvP3URYezaj_",
        "outputId": "ee2aa801-b658-4d62-ffbd-44f9c0a4785b"
      },
      "execution_count": 35,
      "outputs": [
        {
          "output_type": "execute_result",
          "data": {
            "text/plain": [
              "SVC()"
            ]
          },
          "metadata": {},
          "execution_count": 35
        }
      ]
    },
    {
      "cell_type": "code",
      "source": [
        "y_valid_pred = clf.predict(X_valid.values)\n",
        "accuracy_score(y_valid, y_valid_pred)"
      ],
      "metadata": {
        "colab": {
          "base_uri": "https://localhost:8080/"
        },
        "id": "_SyUpFiazpY4",
        "outputId": "8381fba6-840a-475c-a3a4-50813d7359d1"
      },
      "execution_count": 36,
      "outputs": [
        {
          "output_type": "stream",
          "name": "stderr",
          "text": [
            "/usr/local/lib/python3.8/dist-packages/sklearn/base.py:450: UserWarning: X does not have valid feature names, but SVC was fitted with feature names\n",
            "  warnings.warn(\n"
          ]
        },
        {
          "output_type": "execute_result",
          "data": {
            "text/plain": [
              "0.9930555555555556"
            ]
          },
          "metadata": {},
          "execution_count": 36
        }
      ]
    },
    {
      "cell_type": "code",
      "source": [
        "y_train_pred = clf.predict(X_train2.values)\n",
        "accuracy_score(y_train2, y_train_pred)"
      ],
      "metadata": {
        "colab": {
          "base_uri": "https://localhost:8080/"
        },
        "id": "vmbOVnuy5Hzr",
        "outputId": "1d3f844e-9c3e-4d15-8285-fd68d7748d92"
      },
      "execution_count": 37,
      "outputs": [
        {
          "output_type": "stream",
          "name": "stderr",
          "text": [
            "/usr/local/lib/python3.8/dist-packages/sklearn/base.py:450: UserWarning: X does not have valid feature names, but SVC was fitted with feature names\n",
            "  warnings.warn(\n"
          ]
        },
        {
          "output_type": "execute_result",
          "data": {
            "text/plain": [
              "0.9982621648460774"
            ]
          },
          "metadata": {},
          "execution_count": 37
        }
      ]
    },
    {
      "cell_type": "code",
      "source": [
        "y_test_pred = clf.predict(X_test.values)\n",
        "accuracy_score(y_test, y_test_pred)"
      ],
      "metadata": {
        "colab": {
          "base_uri": "https://localhost:8080/"
        },
        "id": "ub58PpiZ5Rj1",
        "outputId": "be8a66d4-01d7-4f8c-fa02-c998f3fc5d39"
      },
      "execution_count": 38,
      "outputs": [
        {
          "output_type": "stream",
          "name": "stderr",
          "text": [
            "/usr/local/lib/python3.8/dist-packages/sklearn/base.py:450: UserWarning: X does not have valid feature names, but SVC was fitted with feature names\n",
            "  warnings.warn(\n"
          ]
        },
        {
          "output_type": "execute_result",
          "data": {
            "text/plain": [
              "0.9930523390458545"
            ]
          },
          "metadata": {},
          "execution_count": 38
        }
      ]
    },
    {
      "cell_type": "code",
      "source": [
        "clf.n_support_"
      ],
      "metadata": {
        "colab": {
          "base_uri": "https://localhost:8080/"
        },
        "id": "RHYDAu7e6ylI",
        "outputId": "9d1099c8-0bd0-46a3-d0de-d1ad34405b8f"
      },
      "execution_count": 39,
      "outputs": [
        {
          "output_type": "execute_result",
          "data": {
            "text/plain": [
              "array([ 30,  81, 191, 136], dtype=int32)"
            ]
          },
          "metadata": {},
          "execution_count": 39
        }
      ]
    },
    {
      "cell_type": "markdown",
      "source": [
        "## **D**"
      ],
      "metadata": {
        "id": "1nAwx-JD7QeQ"
      }
    },
    {
      "cell_type": "code",
      "source": [
        "clf = svm.SVC(kernel='rbf', C=3)\n",
        "clf.fit(X_train2, y_train2)"
      ],
      "metadata": {
        "colab": {
          "base_uri": "https://localhost:8080/"
        },
        "id": "-mbiHQy-7Tvu",
        "outputId": "d27caefa-2ebb-4f32-e968-620f00abaf1a"
      },
      "execution_count": 41,
      "outputs": [
        {
          "output_type": "execute_result",
          "data": {
            "text/plain": [
              "SVC(C=3)"
            ]
          },
          "metadata": {},
          "execution_count": 41
        }
      ]
    },
    {
      "cell_type": "code",
      "source": [
        "y_valid_pred = clf.predict(X_valid.values)\n",
        "accuracy_score(y_valid, y_valid_pred)"
      ],
      "metadata": {
        "colab": {
          "base_uri": "https://localhost:8080/"
        },
        "id": "TfwDb8m77dKw",
        "outputId": "4a6e7d8e-71e4-4e4e-f7c8-72b3573decf1"
      },
      "execution_count": 42,
      "outputs": [
        {
          "output_type": "stream",
          "name": "stderr",
          "text": [
            "/usr/local/lib/python3.8/dist-packages/sklearn/base.py:450: UserWarning: X does not have valid feature names, but SVC was fitted with feature names\n",
            "  warnings.warn(\n"
          ]
        },
        {
          "output_type": "execute_result",
          "data": {
            "text/plain": [
              "0.9940476190476191"
            ]
          },
          "metadata": {},
          "execution_count": 42
        }
      ]
    },
    {
      "cell_type": "code",
      "source": [
        "y_train_pred = clf.predict(X_train2.values)\n",
        "accuracy_score(y_train2, y_train_pred)"
      ],
      "metadata": {
        "colab": {
          "base_uri": "https://localhost:8080/"
        },
        "id": "7FkGL7JG7pq9",
        "outputId": "0d0ab060-fb27-45d0-b2b2-e13cbb575419"
      },
      "execution_count": 43,
      "outputs": [
        {
          "output_type": "stream",
          "name": "stderr",
          "text": [
            "/usr/local/lib/python3.8/dist-packages/sklearn/base.py:450: UserWarning: X does not have valid feature names, but SVC was fitted with feature names\n",
            "  warnings.warn(\n"
          ]
        },
        {
          "output_type": "execute_result",
          "data": {
            "text/plain": [
              "0.9990069513406157"
            ]
          },
          "metadata": {},
          "execution_count": 43
        }
      ]
    },
    {
      "cell_type": "code",
      "source": [
        "y_test_pred = clf.predict(X_test.values)\n",
        "accuracy_score(y_test, y_test_pred)"
      ],
      "metadata": {
        "colab": {
          "base_uri": "https://localhost:8080/"
        },
        "id": "xL7r2k9k7uTT",
        "outputId": "98c5c20f-bf6f-46bc-fb4e-a6029d3515a8"
      },
      "execution_count": 44,
      "outputs": [
        {
          "output_type": "stream",
          "name": "stderr",
          "text": [
            "/usr/local/lib/python3.8/dist-packages/sklearn/base.py:450: UserWarning: X does not have valid feature names, but SVC was fitted with feature names\n",
            "  warnings.warn(\n"
          ]
        },
        {
          "output_type": "execute_result",
          "data": {
            "text/plain": [
              "0.9949050486336267"
            ]
          },
          "metadata": {},
          "execution_count": 44
        }
      ]
    },
    {
      "cell_type": "code",
      "source": [
        "clf.n_support_"
      ],
      "metadata": {
        "colab": {
          "base_uri": "https://localhost:8080/"
        },
        "id": "67OaeZpk8Sol",
        "outputId": "31ff4075-f20d-423c-b784-f6f825f04d2c"
      },
      "execution_count": 45,
      "outputs": [
        {
          "output_type": "execute_result",
          "data": {
            "text/plain": [
              "array([ 20,  52, 129, 106], dtype=int32)"
            ]
          },
          "metadata": {},
          "execution_count": 45
        }
      ]
    }
  ]
}